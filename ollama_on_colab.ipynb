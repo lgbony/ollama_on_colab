{
 "cells": [
  {
   "cell_type": "markdown",
   "metadata": {},
   "source": [
    "Install ollama"
   ]
  },
  {
   "cell_type": "code",
   "execution_count": null,
   "metadata": {},
   "outputs": [],
   "source": [
    "!curl https://ollama.ai/install.sh | sh"
   ]
  },
  {
   "cell_type": "code",
   "execution_count": null,
   "metadata": {},
   "outputs": [],
   "source": [
    "# Run ollama serve in the background\n",
    "import subprocess\n",
    "\n",
    "pipe = subprocess.Pipe()\n",
    "\n",
    "process = subprocess.Popen(\n",
    "    \"ollama serve\",\n",
    "    shell=True,\n",
    "    stdout=subprocess.PIPE,\n",
    "    stderr=subprocess.PIPE\n",
    "    )"
   ]
  },
  {
   "cell_type": "markdown",
   "metadata": {},
   "source": [
    "Pull the model locally"
   ]
  },
  {
   "cell_type": "code",
   "execution_count": null,
   "metadata": {},
   "outputs": [],
   "source": [
    "!ollama pull mistral:7b-instruct-q4_0"
   ]
  },
  {
   "cell_type": "markdown",
   "metadata": {},
   "source": [
    "Query the model locally\n",
    "- generate will generate tokens, one JSON per token\n",
    "- chat will return a message\n",
    "- weirdly you sometimes need to restart using `ollama serve` again or you'll get the Err 111 connection refused error "
   ]
  },
  {
   "cell_type": "code",
   "execution_count": null,
   "metadata": {},
   "outputs": [],
   "source": [
    "!curl http://localhost:11434/api/generate -d '{ \\\n",
    "  \"model\": \"mistral:7b-instruct-q4_0\", \\\n",
    "  \"prompt\":\"Why is the sky blue?\" \\\n",
    "}'"
   ]
  },
  {
   "cell_type": "code",
   "execution_count": null,
   "metadata": {},
   "outputs": [],
   "source": [
    "curl http://localhost:11434/api/chat -d '{ \\\n",
    "  \"model\": \"mistral:7b-instruct-q4_0\", \\\n",
    "  \"messages\": [ \\\n",
    "    { \"role\": \"user\", \"content\": \"why is the sky blue?\" } \\\n",
    "  ] \\\n",
    "}'"
   ]
  }
 ],
 "metadata": {
  "language_info": {
   "name": "python"
  }
 },
 "nbformat": 4,
 "nbformat_minor": 2
}
