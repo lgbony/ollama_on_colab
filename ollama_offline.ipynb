{
 "cells": [
  {
   "cell_type": "markdown",
   "metadata": {},
   "source": [
    "### Objectives\n",
    "\n",
    "This notebook is a quickstart to use a LLM on ollama while working offline.\n",
    "We assume that you have a local repo for OS and Python dependencies.\n",
    "However we will show how to load a model in Ollama from a file download from the Internet."
   ]
  },
  {
   "cell_type": "code",
   "execution_count": null,
   "metadata": {
    "vscode": {
     "languageId": "plaintext"
    }
   },
   "outputs": [],
   "source": [
    "!sudo apt-get install -y lshw\n",
    "!curl https://ollama.ai/install.sh | sh"
   ]
  },
  {
   "cell_type": "code",
   "execution_count": null,
   "metadata": {
    "vscode": {
     "languageId": "plaintext"
    }
   },
   "outputs": [],
   "source": [
    "# Run ollama serve in the background\n",
    "import subprocess\n",
    "\n",
    "pipe = subprocess.Pipe()\n",
    "\n",
    "process = subprocess.Popen(\n",
    "    \"ollama serve\",\n",
    "    shell=True,\n",
    "    stdout=subprocess.PIPE,\n",
    "    stderr=subprocess.PIPE\n",
    ")"
   ]
  }
 ],
 "metadata": {
  "language_info": {
   "name": "python"
  }
 },
 "nbformat": 4,
 "nbformat_minor": 2
}
